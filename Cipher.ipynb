{
 "cells": [
  {
   "cell_type": "markdown",
   "metadata": {},
   "source": [
    "<img src=\"https://avatars0.githubusercontent.com/u/33459977?s=80&v=4\" align=\"left\"/>\n",
    "\n",
    "---------------------------------------------------------------------------\n",
    "About\n",
    "=====\n",
    "\n",
    "- **ARJUN MOHNOT**\n",
    "- E17CSE102\n",
    "- EB04\n",
    "- Mobile: +91-7733993964\n",
    "- [Website](https://arjun009.github.io)\n",
    "- [WhatsApp](https://wa.me/917733993964?text=Hey%20Arjun%20Mohnot,%20I%27m%20contacting%20you%20from%20your%20Jupyter%20Notebook,%20A.I.-M.L.)\n",
    "- [PlayStore](https://play.google.com/store/apps/developer?id=ARJUN+MOHNOT)\n",
    "\n",
    "---------------------------------------------------------------------------"
   ]
  },
  {
   "cell_type": "markdown",
   "metadata": {},
   "source": [
    "# Transposition Cipher"
   ]
  },
  {
   "cell_type": "code",
   "execution_count": 63,
   "metadata": {},
   "outputs": [],
   "source": [
    "def encrypt(keywords,encryptedText):\n",
    "    keyword=sorted(keywords)\n",
    "    length=len(encryptedText)\n",
    "    loop=len(keywords)\n",
    "    #print(\"length\",length)\n",
    "    #print(\"\\nloop\",loop)\n",
    "    output=[]\n",
    "    if length%loop!=0:\n",
    "        encryptedText+=(loop-length%loop)*'@'\n",
    "    counter=1\n",
    "    temp=[]\n",
    "\n",
    "    #print(encryptedText)\n",
    "    for i in encryptedText:\n",
    "\n",
    "        if counter==loop:\n",
    "            temp.append(i)\n",
    "            counter=1\n",
    "            output.append(temp)\n",
    "            temp=[]\n",
    "        else:\n",
    "            temp.append(i)\n",
    "            counter+=1\n",
    "\n",
    "    #print(keyword)        \n",
    "    #print(output)\n",
    "    strings=\"\"\n",
    "    for i in range(len(keywords)):\n",
    "        for j in range(len(output)):\n",
    "            if output[j][i]!=\"@\":\n",
    "                strings+=output[j][i]\n",
    "\n",
    "        strings+=\"--\"\n",
    "\n",
    "    strings=strings.split(\"--\")\n",
    "    #print(strings)\n",
    "    finalString=\"\"\n",
    "    used=[]\n",
    "    \n",
    "    for i in range(len(keyword)):\n",
    "        for j in range(len(keywords)):\n",
    "            if keyword[i]==keywords[j] and j not in used:\n",
    "                used.append(j)\n",
    "                finalString+=strings[j]+\"--\"\n",
    "\n",
    "    print(\"\\nEncrypted Text: \")#,finalString.split(\"--\")[:-1])\n",
    "    out=finalString.split(\"--\")[:-1]\n",
    "    \n",
    "    return \" \".join(out)\n",
    "\n",
    "\n",
    "\n",
    "\n"
   ]
  },
  {
   "cell_type": "code",
   "execution_count": 64,
   "metadata": {},
   "outputs": [],
   "source": [
    "def decrypt(keywords,decrypted):\n",
    "    try:\n",
    "        finalOutput=[]\n",
    "        out=decrypted.split(\" \")\n",
    "        keyword=sorted(keywords)\n",
    "        final=[]\n",
    "        used=[]\n",
    "        maxcount=0\n",
    "        for i in range(len(keywords)):\n",
    "            for j in range(len(keyword)):\n",
    "                if keywords[i]==keyword[j] and j not in used:\n",
    "                    used.append(j)\n",
    "                    final.append(out[j])\n",
    "                    if len(out[j])>maxcount:\n",
    "                        maxcount=len(out[j])\n",
    "\n",
    "\n",
    "        for i in range(maxcount):\n",
    "            for j in range(len(final)):\n",
    "                try:\n",
    "                    if final[j][i]!=None:\n",
    "                        finalOutput.append(final[j][i])\n",
    "                        #print(final[j][i],end=\"\")\n",
    "                except:\n",
    "                    pass\n",
    "\n",
    "        return \"\".join(finalOutput)\n",
    "    except:\n",
    "        return \"Oh Snap! wrong input from your side. Something went wrong!\"\n",
    "            \n"
   ]
  },
  {
   "cell_type": "code",
   "execution_count": 65,
   "metadata": {},
   "outputs": [
    {
     "name": "stdout",
     "output_type": "stream",
     "text": [
      "\n",
      "Text to be Encrypted\n",
      "\n",
      "Enter Key: h@#$d\n",
      "Text To Be Encrypted: EncryptedText\n",
      "\n",
      "Encrypted Text: \n",
      "cet rd ntx yT Epe\n",
      "\n",
      "Text to be Decrypted\n",
      "\n",
      "\n",
      "Enter Key: h@#$d\n",
      "Text To Be Decrypted: cet rd ntx yT Epe\n",
      "\n",
      "Decrypted text:\n",
      "EncryptedText\n"
     ]
    }
   ],
   "source": [
    "if __name__==\"__main__\":\n",
    "    \n",
    "    try:\n",
    "        print(\"\\nText to be Encrypted\\n\")\n",
    "        keywords=input(\"Enter Key: \")\n",
    "        encryptedText=input(\"Text To Be Encrypted: \")\n",
    "\n",
    "        output=encrypt(keywords,encryptedText)\n",
    "        print(output)\n",
    "    except:\n",
    "        print(\"\\nOh Snap! wrong input from your side. Something went wrong!\")\n",
    "    \n",
    "    try:\n",
    "        print(\"\\nText to be Decrypted\\n\")      \n",
    "        keywords=input(\"\\nEnter Key: \")\n",
    "        decrypted=input(\"Text To Be Decrypted: \")\n",
    "\n",
    "        outs=decrypt(keywords,decrypted)\n",
    "        print(\"\\nDecrypted text:\")\n",
    "        print(outs)\n",
    "    except:\n",
    "        print(\"\\nOh Snap! wrong input from your side. Something went wrong!\")          \n"
   ]
  },
  {
   "cell_type": "markdown",
   "metadata": {},
   "source": [
    "# Vigenere Cipher"
   ]
  },
  {
   "cell_type": "code",
   "execution_count": 66,
   "metadata": {},
   "outputs": [],
   "source": [
    "#vigenere algorithm\n",
    "\n",
    "#encrypt\n",
    "\n",
    "import numpy as np\n",
    "\n",
    "def Vencrypyt(string1,string2key):\n",
    "\n",
    "    alaphabetsRow=np.arange(0,26,dtype='int8')\n",
    "\n",
    "    array=np.ones((26,26),dtype='int8')\n",
    "\n",
    "\n",
    "    for i in range(len(alaphabetsRow)):\n",
    "        for j in range(len(alaphabetsRow)):\n",
    "            array[i][j]=(alaphabetsRow[i]+alaphabetsRow[j])%26\n",
    "\n",
    "            \n",
    "    #print(array)        \n",
    "    if len(string2key)<len(string1):\n",
    "        modulo=len(string1)//len(string2key)\n",
    "        string2key=(modulo+1)*string2key\n",
    "\n",
    "    temp=''\n",
    "    for i in range(len(string1)):\n",
    "        val=ord(string1[i])-97\n",
    "        valkey=ord(string2key[i])-97\n",
    "        value=chr(array[valkey][val]+97)\n",
    "        temp+=value\n",
    "\n",
    "    #print(\"Encrypted-Text --> \",temp)            \n",
    "    return temp\n",
    "\n",
    "\n"
   ]
  },
  {
   "cell_type": "code",
   "execution_count": 67,
   "metadata": {},
   "outputs": [],
   "source": [
    "#Decrypt\n",
    "def Vdecrypt(decrypted,string2key):\n",
    "    alaphabetsRow=np.arange(0,26,dtype='int8')\n",
    "\n",
    "    array=np.ones((26,26),dtype='int8')\n",
    "    for i in range(len(alaphabetsRow)):\n",
    "            for j in range(len(alaphabetsRow)):\n",
    "                array[i][j]=(alaphabetsRow[i]+alaphabetsRow[j])%26\n",
    "\n",
    "    count=0\n",
    "    finalString=''\n",
    "    for i in decrypted:\n",
    "        valueGot=ord(i)-97\n",
    "        val=ord(string2key[count])-97\n",
    "        for j in range(len(array[val])):\n",
    "            if array[val][j]==valueGot:\n",
    "                finalValue=chr(j+97)\n",
    "                finalString+=finalValue\n",
    "        count+=1\n",
    "    return finalString\n",
    "    \n",
    "#print(\"Dencrypted-Text --> \",finalString)    "
   ]
  },
  {
   "cell_type": "code",
   "execution_count": 68,
   "metadata": {},
   "outputs": [
    {
     "name": "stdout",
     "output_type": "stream",
     "text": [
      "\n",
      "Text to be Encrypted\n",
      "\n",
      "Enter Key: Encryption\n",
      "Enter Text to be encrypted: Decryption\n",
      "\n",
      "\n",
      "Encrypted Text:\n",
      "hreiwemqca\n",
      "\n",
      "Text to be Decrypted\n",
      "\n",
      "Enter Key: Encryption\n",
      "Enter Text to be decrypted: hreiwemqca\n",
      "\n",
      "\n",
      "Decrypted Text:\n",
      "decryption\n"
     ]
    }
   ],
   "source": [
    "if __name__==\"__main__\":\n",
    "    print(\"\\nText to be Encrypted\\n\")\n",
    "    string2key=input(\"Enter Key: \").lower()\n",
    "    string1=input(\"Enter Text to be encrypted: \").lower()\n",
    "    print(\"\\n\")\n",
    "    \n",
    "    if len(string2key)==len(string1):\n",
    "        try:\n",
    "            encrypted=Vencrypyt(string1,string2key)\n",
    "            print(\"Encrypted Text:\")\n",
    "            print(encrypted)\n",
    "        except:\n",
    "            print(\"\\nOh Snap! wrong input from your side. Something went wrong!\")\n",
    "    else:\n",
    "        print(\"Length of key and text should be same!\")\n",
    "                  \n",
    "    print(\"\\nText to be Decrypted\\n\")\n",
    "    string2key=input(\"Enter Key: \").lower()\n",
    "    string1=input(\"Enter Text to be decrypted: \").lower()\n",
    "    print(\"\\n\")\n",
    "    \n",
    "    \n",
    "    if len(string2key)==len(string1):\n",
    "        try:\n",
    "            decrypted=Vdecrypt(string1,string2key)\n",
    "            print(\"Decrypted Text:\")\n",
    "            print(decrypted)\n",
    "        except:\n",
    "            print(\"\\nOh Snap! wrong input from your side. Something went wrong!\")\n",
    "    else:\n",
    "        print(\"Length of key and text should be same!\")\n",
    "\n",
    "    \n"
   ]
  },
  {
   "cell_type": "markdown",
   "metadata": {},
   "source": [
    "# Fernet"
   ]
  },
  {
   "cell_type": "code",
   "execution_count": 69,
   "metadata": {},
   "outputs": [],
   "source": [
    "from cryptography.fernet import Fernet, MultiFernet"
   ]
  },
  {
   "cell_type": "code",
   "execution_count": 70,
   "metadata": {
    "scrolled": true
   },
   "outputs": [
    {
     "name": "stdout",
     "output_type": "stream",
     "text": [
      "Use this Unique Key to decrypt!\n",
      "n2skSPYQvlPbrbC10HmaGc7PIw4iG6wGyiXZqJhiPJ8=\n",
      "Enter your text to encrypt: Hi world! Bye World!\n",
      "\n",
      " Your encrypted text:\n",
      "gAAAAABdSfCb7m6_remCIp0vokmOAIq9-r7nZjLNvwiDWTHn1WSNagYnv_P-qSYMC88cLTxc-L_stIkasfgIsHNIlBsKub97iR_lQdoqZ83Wd3fsXYBg_G0=\n",
      "\n",
      "Enter your unique key: n2skSPYQvlPbrbC10HmaGc7PIw4iG6wGyiXZqJhiPJ8=\n",
      "Enter Text to Decrypt: gAAAAABdSfCb7m6_remCIp0vokmOAIq9-r7nZjLNvwiDWTHn1WSNagYnv_P-qSYMC88cLTxc-L_stIkasfgIsHNIlBsKub97iR_lQdoqZ83Wd3fsXYBg_G0=\n",
      "\n",
      " Your decrypted text:\n",
      "Hi world! Bye World!\n"
     ]
    }
   ],
   "source": [
    "try:\n",
    "    def fencrypt(text,flag=0):\n",
    "        try:    \n",
    "            key = Fernet.generate_key()\n",
    "            if flag==0:\n",
    "                print(\"Use this Unique Key to decrypt!\")\n",
    "                print(key.decode())\n",
    "            f = Fernet(key)\n",
    "            if flag==1:\n",
    "                normalText=str.encode(text)\n",
    "            else:\n",
    "                normalText=str.encode(input(\"Enter your text to encrypt: \"))\n",
    "            token = f.encrypt(normalText)\n",
    "           \n",
    "            if flag==1:\n",
    "                return (key,token)\n",
    "            else:\n",
    "                print(\"\\n Your encrypted text:\")\n",
    "                print(token.decode())\n",
    "        except Exception as e:\n",
    "            print(\"Oh Snap! wrong input from your side. Something went wrong! \",e)\n",
    "        \n",
    "    def fdecrypt(key,token,flag=0):\n",
    "        try:\n",
    "            if flag==0:\n",
    "                key=str.encode(input(\"\\nEnter your unique key: \"))\n",
    "                g=Fernet(key)\n",
    "                token=str.encode(input(\"Enter Text to Decrypt: \"))\n",
    "                outputs=g.decrypt(token)\n",
    "                print(\"\\n Your decrypted text:\")\n",
    "                print(outputs.decode())\n",
    "            else:\n",
    "                key=key\n",
    "                token=token\n",
    "                g=Fernet(key)\n",
    "                outputs=g.decrypt(token)\n",
    "                return outputs\n",
    "        except Exception as e:\n",
    "            print(\"Oh Snap! wrong input from your side. Something went wrong! \",e)\n",
    "except Exception as e:\n",
    "    print(\"Oh Snap! wrong input from your side. Something went wrong! \",e)\n",
    "    \n",
    "    \n",
    "    \n",
    "    \n",
    "    \n",
    "if __name__==\"__main__\":\n",
    "    fencrypt(text=\"\",flag=0)\n",
    "    fdecrypt(key=\"\",token=\"\",flag=0)"
   ]
  },
  {
   "cell_type": "markdown",
   "metadata": {},
   "source": [
    "# Encrypting .txt file through fernet"
   ]
  },
  {
   "cell_type": "code",
   "execution_count": 71,
   "metadata": {},
   "outputs": [
    {
     "name": "stdout",
     "output_type": "stream",
     "text": [
      "Encrypted text for the normal file:  gAAAAABdSfC0SXFeZkJFwiXcc2v3EjkXCqNSeeZspHXgQx1NK8FIN_JqUw80rTLcw2x9oT0mp4-sbucI2jli-juk57TzyzIWm6xEDWO1sNwXlKDOBYRTlRQXg6kXVt5LGpv0taqSNhVdZzYd0QfZHHiwmLCBW5d7jsEuaCI3bMA20RjG6Ig0DZs=\n"
     ]
    }
   ],
   "source": [
    "#path of your normal file\n",
    "openFile=open(\"message.txt\")\n",
    "result=[]\n",
    "for i in openFile:\n",
    "    result.append(i)\n",
    "result=\"\\n\".join(result)\n",
    "key,token=fencrypt(result,1)\n",
    "print(\"Encrypted text for the normal file: \",token.decode())\n",
    "with open(\"encrypt.txt\",\"w\") as f:\n",
    "    f.write(key.decode())\n",
    "    f.write(\"\\n\")\n",
    "    f.write(token.decode())\n",
    "    f.close()\n",
    "\n"
   ]
  },
  {
   "cell_type": "markdown",
   "metadata": {},
   "source": [
    "# Decrypting .txt file through fernet"
   ]
  },
  {
   "cell_type": "code",
   "execution_count": 72,
   "metadata": {},
   "outputs": [
    {
     "name": "stdout",
     "output_type": "stream",
     "text": [
      "Decrypted text for the encrypted file:  This file needs to be encrypted! Emergency ! help!\n",
      "\n",
      "volla!\n",
      "\n",
      "working.\n"
     ]
    }
   ],
   "source": [
    "#path of your encrypted file\n",
    "op=open(\"encrypt.txt\")\n",
    "res=[]\n",
    "for i in op.readlines():\n",
    "    res.append(str(i).encode())\n",
    "resulted=fdecrypt(key=res[0],token=res[1],flag=1)\n",
    "print(\"Decrypted text for the encrypted file: \",resulted.decode())\n",
    "\n",
    "#path of your decrypted message\n",
    "with open(\"decrypted.txt\",\"w\") as f:\n",
    "    f.write(resulted.decode())"
   ]
  },
  {
   "cell_type": "markdown",
   "metadata": {},
   "source": [
    "# Multi Fernet"
   ]
  },
  {
   "cell_type": "code",
   "execution_count": 73,
   "metadata": {},
   "outputs": [],
   "source": [
    "def mfEncrypt():\n",
    "    print(\"Save these two keys with you to decrypt the encrypted text!\")\n",
    "    print(\"\\n\")\n",
    "    key1 = Fernet.generate_key()\n",
    "    key2 = Fernet.generate_key()\n",
    "    print(key1.decode())\n",
    "    print(key2.decode())\n",
    "    print(\"\\n\")\n",
    "    key1,key2=Fernet(key1),Fernet(key2)\n",
    "    f = MultiFernet([key1, key2])\n",
    "    token = f.encrypt(str(input(\"Enter your text to encrypt: \")).encode())\n",
    "    print(\"\\n\")\n",
    "    print(\"Encrypted text:\",token.decode())\n",
    "\n",
    "def mDecrypt():\n",
    "    print(\"\\n Enter your two keys\")\n",
    "    key1 = str(input(\"Key1: \")).encode()\n",
    "    key2 = str(input(\"Key2: \")).encode()\n",
    "    print(\"\\n\")\n",
    "    f=MultiFernet([Fernet(key1), Fernet(key2)])\n",
    "    token=str(input(\"Enter your encrypted text to decrypt: \")).encode()\n",
    "    print(\"\\n Decrypted Text\",f.decrypt(token).decode())\n",
    "    print(\"\\n\")\n",
    "#b'Secret message!'"
   ]
  },
  {
   "cell_type": "code",
   "execution_count": 74,
   "metadata": {},
   "outputs": [
    {
     "name": "stdout",
     "output_type": "stream",
     "text": [
      "Save these two keys with you to decrypt the encrypted text!\n",
      "\n",
      "\n",
      "25PIbnYqBxJZMG5VBpcpeFFmzfxRpq-KPMS0xdf53Y0=\n",
      "v8aas-_HMw3kQ7OKEJ8rAVRAK4bHPGrummA6AbH4HBQ=\n",
      "\n",
      "\n",
      "Enter your text to encrypt: Today is Awesome For Ethical Hacking! Let's Break The FireWall.\n",
      "\n",
      "\n",
      "Encrypted text: gAAAAABdSfD7mGglnjtKI_HPiQ86wGPsZopEUy9BnkxEsA_5w9ROYd4lapp28YQhUfXpvaEzQU1iHnNB7q2ayKiwd8dyfwuGTaL42CZp0C_ye6e4Kk30VW_060bZuFInxd16hZE-9hwPssxIxxqFoEYYFSnDAJ1kzA==\n",
      "\n",
      " Enter your two keys\n",
      "Key1: 25PIbnYqBxJZMG5VBpcpeFFmzfxRpq-KPMS0xdf53Y0=\n",
      "Key2: v8aas-_HMw3kQ7OKEJ8rAVRAK4bHPGrummA6AbH4HBQ=\n",
      "\n",
      "\n",
      "Enter your encrypted text to decrypt: gAAAAABdSfD7mGglnjtKI_HPiQ86wGPsZopEUy9BnkxEsA_5w9ROYd4lapp28YQhUfXpvaEzQU1iHnNB7q2ayKiwd8dyfwuGTaL42CZp0C_ye6e4Kk30VW_060bZuFInxd16hZE-9hwPssxIxxqFoEYYFSnDAJ1kzA==\n",
      "\n",
      " Decrypted Text Today is Awesome For Ethical Hacking! Let's Break The FireWall.\n",
      "\n",
      "\n"
     ]
    }
   ],
   "source": [
    "mfEncrypt()\n",
    "mDecrypt()"
   ]
  },
  {
   "cell_type": "code",
   "execution_count": null,
   "metadata": {},
   "outputs": [],
   "source": []
  }
 ],
 "metadata": {
  "kernelspec": {
   "display_name": "Python 3",
   "language": "python",
   "name": "python3"
  },
  "language_info": {
   "codemirror_mode": {
    "name": "ipython",
    "version": 3
   },
   "file_extension": ".py",
   "mimetype": "text/x-python",
   "name": "python",
   "nbconvert_exporter": "python",
   "pygments_lexer": "ipython3",
   "version": "3.6.5"
  }
 },
 "nbformat": 4,
 "nbformat_minor": 2
}
